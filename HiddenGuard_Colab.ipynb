{
  "nbformat": 4,
  "nbformat_minor": 5,
  "metadata": {
    "colab": {
      "name": "HiddenGuard_Colab.ipynb",
      "provenance": []
    },
    "kernelspec": {
      "name": "python3",
      "language": "python",
      "display_name": "Python 3"
    },
    "language_info": {
      "name": "python",
      "version": "3.11.8"
    }
  },
  "cells": [
    {
      "cell_type": "markdown",
      "metadata": {},
      "source": "# HiddenGuard: Colab Notebook\nUse this notebook to run the **HiddenGuard** pipeline for detecting steganographic prompt injection (SPI) against MLLM pipelines.\n\n**Options to load the repo:**\n\n- **A) GitHub clone** \u2013 set `REPO_URL` below (recommended after you upload your repo to GitHub)\n\n- **B) Upload ZIP** \u2013 upload the ZIP you downloaded from ChatGPT and extract it here\n\n"
    },
    {
      "cell_type": "markdown",
      "metadata": {},
      "source": "## 0. Runtime checks"
    },
    {
      "cell_type": "code",
      "execution_count": null,
      "metadata": {
        "colab": {
          "base_uri": "https://localhost"
        }
      },
      "outputs": [],
      "source": "\nimport sys, platform, torch, subprocess, os, json\nprint(\"Python:\", sys.version)\nprint(\"Platform:\", platform.platform())\nprint(\"CUDA available:\", torch.cuda.is_available())\nprint(\"GPU:\", torch.cuda.get_device_name(0) if torch.cuda.is_available() else \"CPU runtime\")\n"
    },
    {
      "cell_type": "markdown",
      "metadata": {},
      "source": "## 1. Get the code\nChoose **one** of the options below."
    },
    {
      "cell_type": "markdown",
      "metadata": {},
      "source": "### Option A \u2014 Clone from GitHub (edit the URL)"
    },
    {
      "cell_type": "code",
      "execution_count": null,
      "metadata": {
        "colab": {
          "base_uri": "https://localhost"
        }
      },
      "outputs": [],
      "source": "\n# TODO: Replace with your GitHub URL once you push the repo\nREPO_URL = \"https://github.com/<your-org-or-user>/HiddenGuard.git\"\n\nif REPO_URL.startswith(\"https://github.com/<\"):\n    print(\"\u26a0\ufe0f Please set REPO_URL to your GitHub repository URL (then re-run this cell).\")\nelse:\n    !rm -rf HiddenGuard\n    !git clone --depth=1 \"$REPO_URL\" HiddenGuard\n    %cd HiddenGuard\n    !ls -la\n"
    },
    {
      "cell_type": "markdown",
      "metadata": {},
      "source": "### Option B \u2014 Upload the ZIP and extract"
    },
    {
      "cell_type": "code",
      "execution_count": null,
      "metadata": {
        "colab": {
          "base_uri": "https://localhost"
        }
      },
      "outputs": [],
      "source": "\n# Run this if you want to upload the ZIP created by ChatGPT.\n# After running, click the folder icon (left bar) to verify files extracted under ./HiddenGuard\n\nimport shutil, os, zipfile\nfrom google.colab import files\n\nupload = files.upload()\nzip_name = list(upload.keys())[0]\nprint(\"Uploaded:\", zip_name)\n\n# Extract to ./HiddenGuard\n!rm -rf HiddenGuard\nos.makedirs(\"HiddenGuard\", exist_ok=True)\nwith zipfile.ZipFile(zip_name, 'r') as z:\n    z.extractall(\".\")\n\n# Some zips include the parent folder; auto-detect\nif os.path.isdir(\"mnt/data/HiddenGuard\"):\n    # If the zip preserved its original path structure, move it into ./HiddenGuard\n    shutil.move(\"mnt/data/HiddenGuard\", \"./HiddenGuard\")\n    # Clean parent dirs if created by extraction\n    if os.path.isdir(\"mnt\"):\n        shutil.rmtree(\"mnt\")\n\n# Ensure we are inside the project root\nif os.path.isdir(\"HiddenGuard\"):\n    %cd HiddenGuard\n    !ls -la\nelse:\n    print(\"\u2757Could not locate HiddenGuard folder. Please explore the file tree and cd into the correct directory.\")\n"
    },
    {
      "cell_type": "markdown",
      "metadata": {},
      "source": "## 2. Install dependencies"
    },
    {
      "cell_type": "code",
      "execution_count": null,
      "metadata": {
        "colab": {
          "base_uri": "https://localhost"
        }
      },
      "outputs": [],
      "source": "\n# Colab may need these system libs\n!apt-get update -qq && apt-get install -y -qq libgl1\n\n# Python dependencies\n!pip install -q --upgrade pip\n!pip install -q -r requirements.txt\n\n# (Optional) If you see CLIP download warnings, they will resolve on first use.\n"
    },
    {
      "cell_type": "markdown",
      "metadata": {},
      "source": "## 3. Sanity check project structure"
    },
    {
      "cell_type": "code",
      "execution_count": null,
      "metadata": {
        "colab": {
          "base_uri": "https://localhost"
        }
      },
      "outputs": [],
      "source": "\nimport os, json, pathlib\ntree = []\nfor root, dirs, files in os.walk(\".\", topdown=True):\n    if any(x.startswith(\".venv\") for x in dirs): \n        dirs[:] = [d for d in dirs if not d.startswith(\".venv\")]\n    if root.count(os.sep) > 3:\n        continue\n    for f in files:\n        if f.endswith((\".py\",\".md\",\".yaml\",\".yml\")):\n            tree.append(os.path.join(root, f))\nprint(\"\\n\".join(sorted(tree[:200])))\n"
    },
    {
      "cell_type": "markdown",
      "metadata": {},
      "source": "## 4. Run quick scans with the CLI"
    },
    {
      "cell_type": "code",
      "execution_count": null,
      "metadata": {
        "colab": {
          "base_uri": "https://localhost"
        }
      },
      "outputs": [],
      "source": "\n!python scripts/scan_image.py --image data/samples/safe_noise.png --text \"A noisy abstract pattern\"\n!python scripts/scan_image.py --image data/samples/stego_message.png --text \"A noisy abstract pattern\"\n"
    },
    {
      "cell_type": "markdown",
      "metadata": {},
      "source": "## 5. Launch the REST API (background)"
    },
    {
      "cell_type": "code",
      "execution_count": null,
      "metadata": {
        "colab": {
          "base_uri": "https://localhost"
        }
      },
      "outputs": [],
      "source": "\n# Start FastAPI in the background (Colab cell). You can stop it by interrupting the cell.\nimport subprocess, sys, time\nserver = subprocess.Popen([sys.executable, \"-m\", \"uvicorn\", \"src.hidden_guard.api.app:app\", \"--host\", \"0.0.0.0\", \"--port\", \"8000\"], stdout=subprocess.PIPE, stderr=subprocess.STDOUT)\ntime.sleep(3)\nprint(\"API should be running on port 8000. Use the next cell to query it.\")\n"
    },
    {
      "cell_type": "markdown",
      "metadata": {},
      "source": "### Test the API endpoint"
    },
    {
      "cell_type": "code",
      "execution_count": null,
      "metadata": {
        "colab": {
          "base_uri": "https://localhost"
        }
      },
      "outputs": [],
      "source": "\nimport requests\nfrom pathlib import Path\n\nimg_path = Path(\"data/samples/stego_message.png\")\nfiles = {\"image\": (\"stego_message.png\", open(img_path, \"rb\"), \"image/png\")}\ndata = {\"text\": \"A noisy abstract pattern\"}\nr = requests.post(\"http://127.0.0.1:8000/scan\", files=files, data=data, timeout=60)\nprint(r.status_code)\nprint(r.json())\n"
    },
    {
      "cell_type": "markdown",
      "metadata": {},
      "source": "## 6. Latency benchmark (optional)"
    },
    {
      "cell_type": "code",
      "execution_count": null,
      "metadata": {
        "colab": {
          "base_uri": "https://localhost"
        }
      },
      "outputs": [],
      "source": "\n!python scripts/bench_latency.py --image data/samples/stego_message.png --text \"abstract pattern\" --iters 30\n"
    },
    {
      "cell_type": "markdown",
      "metadata": {},
      "source": "## 7. Ablation study (component-wise outputs)"
    },
    {
      "cell_type": "code",
      "execution_count": null,
      "metadata": {
        "colab": {
          "base_uri": "https://localhost"
        }
      },
      "outputs": [],
      "source": "\n!python -m src.hidden_guard.eval.ablation --image data/samples/stego_message.png --text \"abstract pattern\"\n"
    },
    {
      "cell_type": "markdown",
      "metadata": {},
      "source": "## 8. Visualize wavelet-frequency cues"
    },
    {
      "cell_type": "code",
      "execution_count": null,
      "metadata": {
        "colab": {
          "base_uri": "https://localhost"
        }
      },
      "outputs": [],
      "source": "\n# Display the image and compute WSD internal features for inspection\nimport numpy as np, cv2, json\nfrom src.hidden_guard.wsd import WaveletStegoDetector\n\nwsd = WaveletStegoDetector()\nscore, feats = wsd.score(\"data/samples/stego_message.png\")\nprint(\"WSD suspicious score:\", score)\nprint(\"Top features:\", {k: round(v, 4) for k, v in list(feats.items())[:5]})\n\n# Simple histogram of pixel intensities as a proxy (no fancy style/colors)\nimport matplotlib.pyplot as plt\nimg = cv2.imread(\"data/samples/stego_message.png\", cv2.IMREAD_GRAYSCALE)\nplt.figure()\nplt.hist(img.ravel(), bins=32)\nplt.title(\"Intensity Histogram (Stego Sample)\")\nplt.xlabel(\"Gray Level\")\nplt.ylabel(\"Count\")\nplt.show()\n"
    },
    {
      "cell_type": "markdown",
      "metadata": {},
      "source": "## 9. Stop the API server"
    },
    {
      "cell_type": "code",
      "execution_count": null,
      "metadata": {
        "colab": {
          "base_uri": "https://localhost"
        }
      },
      "outputs": [],
      "source": "\ntry:\n    server.terminate()\n    server.wait(timeout=3)\n    print(\"Server stopped.\")\nexcept Exception as e:\n    print(\"Server may already be stopped.\", e)\n"
    }
  ]
}